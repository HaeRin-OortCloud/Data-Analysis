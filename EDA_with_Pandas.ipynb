{
  "cells": [
    {
      "cell_type": "markdown",
      "metadata": {
        "id": "view-in-github",
        "colab_type": "text"
      },
      "source": [
        "<a href=\"https://colab.research.google.com/github/HaeRin-OortCloud/Data-Analysis/blob/main/EDA_with_Pandas.ipynb\" target=\"_parent\"><img src=\"https://colab.research.google.com/assets/colab-badge.svg\" alt=\"Open In Colab\"/></a>"
      ]
    },
    {
      "cell_type": "markdown",
      "id": "c6c1cd41",
      "metadata": {
        "id": "c6c1cd41"
      },
      "source": [
        "Importing Modules"
      ]
    },
    {
      "cell_type": "code",
      "execution_count": null,
      "id": "724e1cac",
      "metadata": {
        "id": "724e1cac"
      },
      "outputs": [],
      "source": [
        "import pandas as pd"
      ]
    },
    {
      "cell_type": "markdown",
      "id": "83a2df24",
      "metadata": {
        "id": "83a2df24"
      },
      "source": [
        "Loading the data"
      ]
    },
    {
      "cell_type": "code",
      "execution_count": null,
      "id": "ac943b8a",
      "metadata": {
        "id": "ac943b8a",
        "outputId": "5af86517-ece5-4394-ffc7-9efdb3b39db1"
      },
      "outputs": [
        {
          "data": {
            "text/html": [
              "<div>\n",
              "<style scoped>\n",
              "    .dataframe tbody tr th:only-of-type {\n",
              "        vertical-align: middle;\n",
              "    }\n",
              "\n",
              "    .dataframe tbody tr th {\n",
              "        vertical-align: top;\n",
              "    }\n",
              "\n",
              "    .dataframe thead th {\n",
              "        text-align: right;\n",
              "    }\n",
              "</style>\n",
              "<table border=\"1\" class=\"dataframe\">\n",
              "  <thead>\n",
              "    <tr style=\"text-align: right;\">\n",
              "      <th></th>\n",
              "      <th>color</th>\n",
              "      <th>director_name</th>\n",
              "      <th>num_critic_for_reviews</th>\n",
              "      <th>duration</th>\n",
              "      <th>gross</th>\n",
              "      <th>genres</th>\n",
              "      <th>star_name</th>\n",
              "      <th>movie_title</th>\n",
              "      <th>movie_imdb_link</th>\n",
              "      <th>language</th>\n",
              "      <th>country</th>\n",
              "      <th>budget</th>\n",
              "      <th>title_year</th>\n",
              "      <th>imdb_score</th>\n",
              "    </tr>\n",
              "  </thead>\n",
              "  <tbody>\n",
              "    <tr>\n",
              "      <th>0</th>\n",
              "      <td>Color</td>\n",
              "      <td>James Cameron</td>\n",
              "      <td>723.0</td>\n",
              "      <td>178.0</td>\n",
              "      <td>760505847.0</td>\n",
              "      <td>Action|Adventure|Fantasy|Sci-Fi</td>\n",
              "      <td>CCH Pounder</td>\n",
              "      <td>Avatar</td>\n",
              "      <td>http://www.imdb.com/title/tt0499549/?ref_=fn_t...</td>\n",
              "      <td>English</td>\n",
              "      <td>USA</td>\n",
              "      <td>237000000.0</td>\n",
              "      <td>2009.0</td>\n",
              "      <td>7.9</td>\n",
              "    </tr>\n",
              "    <tr>\n",
              "      <th>1</th>\n",
              "      <td>Color</td>\n",
              "      <td>Gore Verbinski</td>\n",
              "      <td>302.0</td>\n",
              "      <td>169.0</td>\n",
              "      <td>309404152.0</td>\n",
              "      <td>Action|Adventure|Fantasy</td>\n",
              "      <td>Johnny Depp</td>\n",
              "      <td>Pirates of the Caribbean: At World's End</td>\n",
              "      <td>http://www.imdb.com/title/tt0449088/?ref_=fn_t...</td>\n",
              "      <td>English</td>\n",
              "      <td>USA</td>\n",
              "      <td>300000000.0</td>\n",
              "      <td>2007.0</td>\n",
              "      <td>7.1</td>\n",
              "    </tr>\n",
              "    <tr>\n",
              "      <th>2</th>\n",
              "      <td>Color</td>\n",
              "      <td>Sam Mendes</td>\n",
              "      <td>602.0</td>\n",
              "      <td>148.0</td>\n",
              "      <td>200074175.0</td>\n",
              "      <td>Action|Adventure|Thriller</td>\n",
              "      <td>Christoph Waltz</td>\n",
              "      <td>Spectre</td>\n",
              "      <td>http://www.imdb.com/title/tt2379713/?ref_=fn_t...</td>\n",
              "      <td>English</td>\n",
              "      <td>UK</td>\n",
              "      <td>245000000.0</td>\n",
              "      <td>2015.0</td>\n",
              "      <td>6.8</td>\n",
              "    </tr>\n",
              "    <tr>\n",
              "      <th>3</th>\n",
              "      <td>Color</td>\n",
              "      <td>Christopher Nolan</td>\n",
              "      <td>813.0</td>\n",
              "      <td>164.0</td>\n",
              "      <td>448130642.0</td>\n",
              "      <td>Action|Thriller</td>\n",
              "      <td>Tom Hardy</td>\n",
              "      <td>The Dark Knight Rises</td>\n",
              "      <td>http://www.imdb.com/title/tt1345836/?ref_=fn_t...</td>\n",
              "      <td>English</td>\n",
              "      <td>USA</td>\n",
              "      <td>250000000.0</td>\n",
              "      <td>2012.0</td>\n",
              "      <td>8.5</td>\n",
              "    </tr>\n",
              "    <tr>\n",
              "      <th>4</th>\n",
              "      <td>NaN</td>\n",
              "      <td>Doug Walker</td>\n",
              "      <td>NaN</td>\n",
              "      <td>NaN</td>\n",
              "      <td>NaN</td>\n",
              "      <td>Documentary</td>\n",
              "      <td>Doug Walker</td>\n",
              "      <td>Star Wars: Episode VII - The Force Awakens</td>\n",
              "      <td>http://www.imdb.com/title/tt5289954/?ref_=fn_t...</td>\n",
              "      <td>NaN</td>\n",
              "      <td>NaN</td>\n",
              "      <td>NaN</td>\n",
              "      <td>NaN</td>\n",
              "      <td>7.1</td>\n",
              "    </tr>\n",
              "  </tbody>\n",
              "</table>\n",
              "</div>"
            ],
            "text/plain": [
              "   color      director_name  num_critic_for_reviews  duration        gross  \\\n",
              "0  Color      James Cameron                   723.0     178.0  760505847.0   \n",
              "1  Color     Gore Verbinski                   302.0     169.0  309404152.0   \n",
              "2  Color         Sam Mendes                   602.0     148.0  200074175.0   \n",
              "3  Color  Christopher Nolan                   813.0     164.0  448130642.0   \n",
              "4    NaN        Doug Walker                     NaN       NaN          NaN   \n",
              "\n",
              "                            genres        star_name  \\\n",
              "0  Action|Adventure|Fantasy|Sci-Fi      CCH Pounder   \n",
              "1         Action|Adventure|Fantasy      Johnny Depp   \n",
              "2        Action|Adventure|Thriller  Christoph Waltz   \n",
              "3                  Action|Thriller        Tom Hardy   \n",
              "4                      Documentary      Doug Walker   \n",
              "\n",
              "                                  movie_title  \\\n",
              "0                                      Avatar   \n",
              "1    Pirates of the Caribbean: At World's End   \n",
              "2                                     Spectre   \n",
              "3                       The Dark Knight Rises   \n",
              "4  Star Wars: Episode VII - The Force Awakens   \n",
              "\n",
              "                                     movie_imdb_link language country  \\\n",
              "0  http://www.imdb.com/title/tt0499549/?ref_=fn_t...  English     USA   \n",
              "1  http://www.imdb.com/title/tt0449088/?ref_=fn_t...  English     USA   \n",
              "2  http://www.imdb.com/title/tt2379713/?ref_=fn_t...  English      UK   \n",
              "3  http://www.imdb.com/title/tt1345836/?ref_=fn_t...  English     USA   \n",
              "4  http://www.imdb.com/title/tt5289954/?ref_=fn_t...      NaN     NaN   \n",
              "\n",
              "        budget  title_year  imdb_score  \n",
              "0  237000000.0      2009.0         7.9  \n",
              "1  300000000.0      2007.0         7.1  \n",
              "2  245000000.0      2015.0         6.8  \n",
              "3  250000000.0      2012.0         8.5  \n",
              "4          NaN         NaN         7.1  "
            ]
          },
          "execution_count": 31,
          "metadata": {},
          "output_type": "execute_result"
        }
      ],
      "source": [
        "data = pd.read_json(\"movies_dataset.json\")\n",
        "data.head()"
      ]
    },
    {
      "cell_type": "markdown",
      "id": "3def3e5e",
      "metadata": {
        "id": "3def3e5e"
      },
      "source": [
        "Check the dataframe shape (#rows and #columns)"
      ]
    },
    {
      "cell_type": "code",
      "execution_count": null,
      "id": "4cdd648b",
      "metadata": {
        "id": "4cdd648b",
        "outputId": "8e62c8be-3956-422f-8164-1d55bae5a1eb"
      },
      "outputs": [
        {
          "data": {
            "text/plain": [
              "(5043, 14)"
            ]
          },
          "execution_count": 32,
          "metadata": {},
          "output_type": "execute_result"
        }
      ],
      "source": [
        "data.shape"
      ]
    },
    {
      "cell_type": "markdown",
      "id": "a826028a",
      "metadata": {
        "id": "a826028a"
      },
      "source": [
        "Check the data types of the columns"
      ]
    },
    {
      "cell_type": "code",
      "execution_count": null,
      "id": "a312e2ad",
      "metadata": {
        "id": "a312e2ad",
        "outputId": "c68a2495-6568-49ec-a7e5-0e73ca09fc83"
      },
      "outputs": [
        {
          "data": {
            "text/plain": [
              "color                      object\n",
              "director_name              object\n",
              "num_critic_for_reviews    float64\n",
              "duration                  float64\n",
              "gross                     float64\n",
              "genres                     object\n",
              "star_name                  object\n",
              "movie_title                object\n",
              "movie_imdb_link            object\n",
              "language                   object\n",
              "country                    object\n",
              "budget                    float64\n",
              "title_year                float64\n",
              "imdb_score                float64\n",
              "dtype: object"
            ]
          },
          "execution_count": 33,
          "metadata": {},
          "output_type": "execute_result"
        }
      ],
      "source": [
        "data.dtypes"
      ]
    },
    {
      "cell_type": "markdown",
      "id": "8b0c0912",
      "metadata": {
        "id": "8b0c0912"
      },
      "source": [
        "Column Selection"
      ]
    },
    {
      "cell_type": "code",
      "execution_count": null,
      "id": "57e0fd68",
      "metadata": {
        "id": "57e0fd68",
        "outputId": "9c55390d-3019-4fe6-8bfe-c8053a57c5d0"
      },
      "outputs": [
        {
          "data": {
            "text/plain": [
              "0       237000000.0\n",
              "1       300000000.0\n",
              "2       245000000.0\n",
              "3       250000000.0\n",
              "4               NaN\n",
              "           ...     \n",
              "5038            NaN\n",
              "5039            NaN\n",
              "5040         1400.0\n",
              "5041            NaN\n",
              "5042         1100.0\n",
              "Name: budget, Length: 5043, dtype: float64"
            ]
          },
          "execution_count": 34,
          "metadata": {},
          "output_type": "execute_result"
        }
      ],
      "source": [
        "data['budget']"
      ]
    },
    {
      "cell_type": "markdown",
      "id": "147a91b3",
      "metadata": {
        "id": "147a91b3"
      },
      "source": [
        "---"
      ]
    },
    {
      "cell_type": "markdown",
      "id": "7a4888bb",
      "metadata": {
        "id": "7a4888bb"
      },
      "source": [
        "## Data Preparation\n",
        "Remove some columns:    \n",
        "   \n",
        "   - `movie_imdb_link`\n",
        "   - `num_critic_for_reviews`\n",
        "   - `genre`"
      ]
    },
    {
      "cell_type": "code",
      "execution_count": null,
      "id": "957ef771",
      "metadata": {
        "id": "957ef771",
        "outputId": "7fd2d900-31d8-4e44-ef88-72d411384f97"
      },
      "outputs": [
        {
          "data": {
            "text/html": [
              "<div>\n",
              "<style scoped>\n",
              "    .dataframe tbody tr th:only-of-type {\n",
              "        vertical-align: middle;\n",
              "    }\n",
              "\n",
              "    .dataframe tbody tr th {\n",
              "        vertical-align: top;\n",
              "    }\n",
              "\n",
              "    .dataframe thead th {\n",
              "        text-align: right;\n",
              "    }\n",
              "</style>\n",
              "<table border=\"1\" class=\"dataframe\">\n",
              "  <thead>\n",
              "    <tr style=\"text-align: right;\">\n",
              "      <th></th>\n",
              "      <th>color</th>\n",
              "      <th>director_name</th>\n",
              "      <th>num_critic_for_reviews</th>\n",
              "      <th>duration</th>\n",
              "      <th>gross</th>\n",
              "      <th>genres</th>\n",
              "      <th>star_name</th>\n",
              "      <th>movie_title</th>\n",
              "      <th>language</th>\n",
              "      <th>country</th>\n",
              "      <th>budget</th>\n",
              "      <th>title_year</th>\n",
              "      <th>imdb_score</th>\n",
              "    </tr>\n",
              "  </thead>\n",
              "  <tbody>\n",
              "    <tr>\n",
              "      <th>0</th>\n",
              "      <td>Color</td>\n",
              "      <td>James Cameron</td>\n",
              "      <td>723.0</td>\n",
              "      <td>178.0</td>\n",
              "      <td>760505847.0</td>\n",
              "      <td>Action|Adventure|Fantasy|Sci-Fi</td>\n",
              "      <td>CCH Pounder</td>\n",
              "      <td>Avatar</td>\n",
              "      <td>English</td>\n",
              "      <td>USA</td>\n",
              "      <td>237000000.0</td>\n",
              "      <td>2009.0</td>\n",
              "      <td>7.9</td>\n",
              "    </tr>\n",
              "    <tr>\n",
              "      <th>1</th>\n",
              "      <td>Color</td>\n",
              "      <td>Gore Verbinski</td>\n",
              "      <td>302.0</td>\n",
              "      <td>169.0</td>\n",
              "      <td>309404152.0</td>\n",
              "      <td>Action|Adventure|Fantasy</td>\n",
              "      <td>Johnny Depp</td>\n",
              "      <td>Pirates of the Caribbean: At World's End</td>\n",
              "      <td>English</td>\n",
              "      <td>USA</td>\n",
              "      <td>300000000.0</td>\n",
              "      <td>2007.0</td>\n",
              "      <td>7.1</td>\n",
              "    </tr>\n",
              "    <tr>\n",
              "      <th>2</th>\n",
              "      <td>Color</td>\n",
              "      <td>Sam Mendes</td>\n",
              "      <td>602.0</td>\n",
              "      <td>148.0</td>\n",
              "      <td>200074175.0</td>\n",
              "      <td>Action|Adventure|Thriller</td>\n",
              "      <td>Christoph Waltz</td>\n",
              "      <td>Spectre</td>\n",
              "      <td>English</td>\n",
              "      <td>UK</td>\n",
              "      <td>245000000.0</td>\n",
              "      <td>2015.0</td>\n",
              "      <td>6.8</td>\n",
              "    </tr>\n",
              "    <tr>\n",
              "      <th>3</th>\n",
              "      <td>Color</td>\n",
              "      <td>Christopher Nolan</td>\n",
              "      <td>813.0</td>\n",
              "      <td>164.0</td>\n",
              "      <td>448130642.0</td>\n",
              "      <td>Action|Thriller</td>\n",
              "      <td>Tom Hardy</td>\n",
              "      <td>The Dark Knight Rises</td>\n",
              "      <td>English</td>\n",
              "      <td>USA</td>\n",
              "      <td>250000000.0</td>\n",
              "      <td>2012.0</td>\n",
              "      <td>8.5</td>\n",
              "    </tr>\n",
              "    <tr>\n",
              "      <th>4</th>\n",
              "      <td>NaN</td>\n",
              "      <td>Doug Walker</td>\n",
              "      <td>NaN</td>\n",
              "      <td>NaN</td>\n",
              "      <td>NaN</td>\n",
              "      <td>Documentary</td>\n",
              "      <td>Doug Walker</td>\n",
              "      <td>Star Wars: Episode VII - The Force Awakens</td>\n",
              "      <td>NaN</td>\n",
              "      <td>NaN</td>\n",
              "      <td>NaN</td>\n",
              "      <td>NaN</td>\n",
              "      <td>7.1</td>\n",
              "    </tr>\n",
              "  </tbody>\n",
              "</table>\n",
              "</div>"
            ],
            "text/plain": [
              "   color      director_name  num_critic_for_reviews  duration        gross  \\\n",
              "0  Color      James Cameron                   723.0     178.0  760505847.0   \n",
              "1  Color     Gore Verbinski                   302.0     169.0  309404152.0   \n",
              "2  Color         Sam Mendes                   602.0     148.0  200074175.0   \n",
              "3  Color  Christopher Nolan                   813.0     164.0  448130642.0   \n",
              "4    NaN        Doug Walker                     NaN       NaN          NaN   \n",
              "\n",
              "                            genres        star_name  \\\n",
              "0  Action|Adventure|Fantasy|Sci-Fi      CCH Pounder   \n",
              "1         Action|Adventure|Fantasy      Johnny Depp   \n",
              "2        Action|Adventure|Thriller  Christoph Waltz   \n",
              "3                  Action|Thriller        Tom Hardy   \n",
              "4                      Documentary      Doug Walker   \n",
              "\n",
              "                                  movie_title language country       budget  \\\n",
              "0                                      Avatar  English     USA  237000000.0   \n",
              "1    Pirates of the Caribbean: At World's End  English     USA  300000000.0   \n",
              "2                                     Spectre  English      UK  245000000.0   \n",
              "3                       The Dark Knight Rises  English     USA  250000000.0   \n",
              "4  Star Wars: Episode VII - The Force Awakens      NaN     NaN          NaN   \n",
              "\n",
              "   title_year  imdb_score  \n",
              "0      2009.0         7.9  \n",
              "1      2007.0         7.1  \n",
              "2      2015.0         6.8  \n",
              "3      2012.0         8.5  \n",
              "4         NaN         7.1  "
            ]
          },
          "execution_count": 35,
          "metadata": {},
          "output_type": "execute_result"
        }
      ],
      "source": [
        "data.drop(axis = 1, columns = [\"movie_imdb_link\"], inplace = True)\n",
        "data.head()"
      ]
    },
    {
      "cell_type": "markdown",
      "id": "8e7474fb",
      "metadata": {
        "id": "8e7474fb"
      },
      "source": [
        "Exercise: Remove the rest of the columns\n"
      ]
    },
    {
      "cell_type": "code",
      "execution_count": null,
      "id": "8b35f061",
      "metadata": {
        "id": "8b35f061"
      },
      "outputs": [],
      "source": [
        "data.drop(axis = 1, columns = [\"num_critic_for_reviews\", \"genres\"], inplace = True)"
      ]
    },
    {
      "cell_type": "markdown",
      "id": "8511aeb2",
      "metadata": {
        "id": "8511aeb2"
      },
      "source": [
        "Check the shape again"
      ]
    },
    {
      "cell_type": "code",
      "execution_count": null,
      "id": "fc57f3a1",
      "metadata": {
        "id": "fc57f3a1",
        "outputId": "4b5c3681-57cf-433d-8e69-7fe1f05df487"
      },
      "outputs": [
        {
          "data": {
            "text/plain": [
              "(5043, 11)"
            ]
          },
          "execution_count": 38,
          "metadata": {},
          "output_type": "execute_result"
        }
      ],
      "source": [
        "data.shape"
      ]
    },
    {
      "cell_type": "markdown",
      "id": "ac630773",
      "metadata": {
        "id": "ac630773"
      },
      "source": [
        "Convert the dtype of `title_year` column to integer"
      ]
    },
    {
      "cell_type": "code",
      "execution_count": null,
      "id": "5b07f9a3",
      "metadata": {
        "id": "5b07f9a3"
      },
      "outputs": [],
      "source": [
        "data.title_year = data.title_year.astype(\"Int64\")"
      ]
    },
    {
      "cell_type": "markdown",
      "id": "14942cce",
      "metadata": {
        "id": "14942cce"
      },
      "source": [
        "Check the dataframe again"
      ]
    },
    {
      "cell_type": "code",
      "execution_count": null,
      "id": "5cc1ab82",
      "metadata": {
        "id": "5cc1ab82",
        "outputId": "e8a4dc48-ebd0-4a67-a938-c0f9e050295c"
      },
      "outputs": [
        {
          "data": {
            "text/html": [
              "<div>\n",
              "<style scoped>\n",
              "    .dataframe tbody tr th:only-of-type {\n",
              "        vertical-align: middle;\n",
              "    }\n",
              "\n",
              "    .dataframe tbody tr th {\n",
              "        vertical-align: top;\n",
              "    }\n",
              "\n",
              "    .dataframe thead th {\n",
              "        text-align: right;\n",
              "    }\n",
              "</style>\n",
              "<table border=\"1\" class=\"dataframe\">\n",
              "  <thead>\n",
              "    <tr style=\"text-align: right;\">\n",
              "      <th></th>\n",
              "      <th>color</th>\n",
              "      <th>director_name</th>\n",
              "      <th>duration</th>\n",
              "      <th>gross</th>\n",
              "      <th>star_name</th>\n",
              "      <th>movie_title</th>\n",
              "      <th>language</th>\n",
              "      <th>country</th>\n",
              "      <th>budget</th>\n",
              "      <th>title_year</th>\n",
              "      <th>imdb_score</th>\n",
              "    </tr>\n",
              "  </thead>\n",
              "  <tbody>\n",
              "    <tr>\n",
              "      <th>0</th>\n",
              "      <td>Color</td>\n",
              "      <td>James Cameron</td>\n",
              "      <td>178.0</td>\n",
              "      <td>760505847.0</td>\n",
              "      <td>CCH Pounder</td>\n",
              "      <td>Avatar</td>\n",
              "      <td>English</td>\n",
              "      <td>USA</td>\n",
              "      <td>237000000.0</td>\n",
              "      <td>2009</td>\n",
              "      <td>7.9</td>\n",
              "    </tr>\n",
              "    <tr>\n",
              "      <th>1</th>\n",
              "      <td>Color</td>\n",
              "      <td>Gore Verbinski</td>\n",
              "      <td>169.0</td>\n",
              "      <td>309404152.0</td>\n",
              "      <td>Johnny Depp</td>\n",
              "      <td>Pirates of the Caribbean: At World's End</td>\n",
              "      <td>English</td>\n",
              "      <td>USA</td>\n",
              "      <td>300000000.0</td>\n",
              "      <td>2007</td>\n",
              "      <td>7.1</td>\n",
              "    </tr>\n",
              "    <tr>\n",
              "      <th>2</th>\n",
              "      <td>Color</td>\n",
              "      <td>Sam Mendes</td>\n",
              "      <td>148.0</td>\n",
              "      <td>200074175.0</td>\n",
              "      <td>Christoph Waltz</td>\n",
              "      <td>Spectre</td>\n",
              "      <td>English</td>\n",
              "      <td>UK</td>\n",
              "      <td>245000000.0</td>\n",
              "      <td>2015</td>\n",
              "      <td>6.8</td>\n",
              "    </tr>\n",
              "    <tr>\n",
              "      <th>3</th>\n",
              "      <td>Color</td>\n",
              "      <td>Christopher Nolan</td>\n",
              "      <td>164.0</td>\n",
              "      <td>448130642.0</td>\n",
              "      <td>Tom Hardy</td>\n",
              "      <td>The Dark Knight Rises</td>\n",
              "      <td>English</td>\n",
              "      <td>USA</td>\n",
              "      <td>250000000.0</td>\n",
              "      <td>2012</td>\n",
              "      <td>8.5</td>\n",
              "    </tr>\n",
              "    <tr>\n",
              "      <th>4</th>\n",
              "      <td>NaN</td>\n",
              "      <td>Doug Walker</td>\n",
              "      <td>NaN</td>\n",
              "      <td>NaN</td>\n",
              "      <td>Doug Walker</td>\n",
              "      <td>Star Wars: Episode VII - The Force Awakens</td>\n",
              "      <td>NaN</td>\n",
              "      <td>NaN</td>\n",
              "      <td>NaN</td>\n",
              "      <td>&lt;NA&gt;</td>\n",
              "      <td>7.1</td>\n",
              "    </tr>\n",
              "  </tbody>\n",
              "</table>\n",
              "</div>"
            ],
            "text/plain": [
              "   color      director_name  duration        gross        star_name  \\\n",
              "0  Color      James Cameron     178.0  760505847.0      CCH Pounder   \n",
              "1  Color     Gore Verbinski     169.0  309404152.0      Johnny Depp   \n",
              "2  Color         Sam Mendes     148.0  200074175.0  Christoph Waltz   \n",
              "3  Color  Christopher Nolan     164.0  448130642.0        Tom Hardy   \n",
              "4    NaN        Doug Walker       NaN          NaN      Doug Walker   \n",
              "\n",
              "                                  movie_title language country       budget  \\\n",
              "0                                      Avatar  English     USA  237000000.0   \n",
              "1    Pirates of the Caribbean: At World's End  English     USA  300000000.0   \n",
              "2                                     Spectre  English      UK  245000000.0   \n",
              "3                       The Dark Knight Rises  English     USA  250000000.0   \n",
              "4  Star Wars: Episode VII - The Force Awakens      NaN     NaN          NaN   \n",
              "\n",
              "   title_year  imdb_score  \n",
              "0        2009         7.9  \n",
              "1        2007         7.1  \n",
              "2        2015         6.8  \n",
              "3        2012         8.5  \n",
              "4        <NA>         7.1  "
            ]
          },
          "execution_count": 42,
          "metadata": {},
          "output_type": "execute_result"
        }
      ],
      "source": [
        "data.head()"
      ]
    },
    {
      "cell_type": "markdown",
      "id": "b0179a75",
      "metadata": {
        "id": "b0179a75"
      },
      "source": [
        "Renaming some columns:\n",
        "- changing `gross` to `movie_income` and `budget` to `movie_budget`"
      ]
    },
    {
      "cell_type": "code",
      "execution_count": null,
      "id": "0b1251d7",
      "metadata": {
        "id": "0b1251d7",
        "outputId": "bcfc7345-0b94-4cdf-ac1c-181cc8ee24f0"
      },
      "outputs": [
        {
          "data": {
            "text/html": [
              "<div>\n",
              "<style scoped>\n",
              "    .dataframe tbody tr th:only-of-type {\n",
              "        vertical-align: middle;\n",
              "    }\n",
              "\n",
              "    .dataframe tbody tr th {\n",
              "        vertical-align: top;\n",
              "    }\n",
              "\n",
              "    .dataframe thead th {\n",
              "        text-align: right;\n",
              "    }\n",
              "</style>\n",
              "<table border=\"1\" class=\"dataframe\">\n",
              "  <thead>\n",
              "    <tr style=\"text-align: right;\">\n",
              "      <th></th>\n",
              "      <th>color</th>\n",
              "      <th>director_name</th>\n",
              "      <th>duration</th>\n",
              "      <th>movie_income</th>\n",
              "      <th>star_name</th>\n",
              "      <th>movie_title</th>\n",
              "      <th>language</th>\n",
              "      <th>country</th>\n",
              "      <th>movie_budget</th>\n",
              "      <th>title_year</th>\n",
              "      <th>imdb_score</th>\n",
              "    </tr>\n",
              "  </thead>\n",
              "  <tbody>\n",
              "    <tr>\n",
              "      <th>0</th>\n",
              "      <td>Color</td>\n",
              "      <td>James Cameron</td>\n",
              "      <td>178.0</td>\n",
              "      <td>760505847.0</td>\n",
              "      <td>CCH Pounder</td>\n",
              "      <td>Avatar</td>\n",
              "      <td>English</td>\n",
              "      <td>USA</td>\n",
              "      <td>237000000.0</td>\n",
              "      <td>2009</td>\n",
              "      <td>7.9</td>\n",
              "    </tr>\n",
              "    <tr>\n",
              "      <th>1</th>\n",
              "      <td>Color</td>\n",
              "      <td>Gore Verbinski</td>\n",
              "      <td>169.0</td>\n",
              "      <td>309404152.0</td>\n",
              "      <td>Johnny Depp</td>\n",
              "      <td>Pirates of the Caribbean: At World's End</td>\n",
              "      <td>English</td>\n",
              "      <td>USA</td>\n",
              "      <td>300000000.0</td>\n",
              "      <td>2007</td>\n",
              "      <td>7.1</td>\n",
              "    </tr>\n",
              "    <tr>\n",
              "      <th>2</th>\n",
              "      <td>Color</td>\n",
              "      <td>Sam Mendes</td>\n",
              "      <td>148.0</td>\n",
              "      <td>200074175.0</td>\n",
              "      <td>Christoph Waltz</td>\n",
              "      <td>Spectre</td>\n",
              "      <td>English</td>\n",
              "      <td>UK</td>\n",
              "      <td>245000000.0</td>\n",
              "      <td>2015</td>\n",
              "      <td>6.8</td>\n",
              "    </tr>\n",
              "    <tr>\n",
              "      <th>3</th>\n",
              "      <td>Color</td>\n",
              "      <td>Christopher Nolan</td>\n",
              "      <td>164.0</td>\n",
              "      <td>448130642.0</td>\n",
              "      <td>Tom Hardy</td>\n",
              "      <td>The Dark Knight Rises</td>\n",
              "      <td>English</td>\n",
              "      <td>USA</td>\n",
              "      <td>250000000.0</td>\n",
              "      <td>2012</td>\n",
              "      <td>8.5</td>\n",
              "    </tr>\n",
              "    <tr>\n",
              "      <th>4</th>\n",
              "      <td>NaN</td>\n",
              "      <td>Doug Walker</td>\n",
              "      <td>NaN</td>\n",
              "      <td>NaN</td>\n",
              "      <td>Doug Walker</td>\n",
              "      <td>Star Wars: Episode VII - The Force Awakens</td>\n",
              "      <td>NaN</td>\n",
              "      <td>NaN</td>\n",
              "      <td>NaN</td>\n",
              "      <td>&lt;NA&gt;</td>\n",
              "      <td>7.1</td>\n",
              "    </tr>\n",
              "  </tbody>\n",
              "</table>\n",
              "</div>"
            ],
            "text/plain": [
              "   color      director_name  duration  movie_income        star_name  \\\n",
              "0  Color      James Cameron     178.0   760505847.0      CCH Pounder   \n",
              "1  Color     Gore Verbinski     169.0   309404152.0      Johnny Depp   \n",
              "2  Color         Sam Mendes     148.0   200074175.0  Christoph Waltz   \n",
              "3  Color  Christopher Nolan     164.0   448130642.0        Tom Hardy   \n",
              "4    NaN        Doug Walker       NaN           NaN      Doug Walker   \n",
              "\n",
              "                                  movie_title language country  movie_budget  \\\n",
              "0                                      Avatar  English     USA   237000000.0   \n",
              "1    Pirates of the Caribbean: At World's End  English     USA   300000000.0   \n",
              "2                                     Spectre  English      UK   245000000.0   \n",
              "3                       The Dark Knight Rises  English     USA   250000000.0   \n",
              "4  Star Wars: Episode VII - The Force Awakens      NaN     NaN           NaN   \n",
              "\n",
              "   title_year  imdb_score  \n",
              "0        2009         7.9  \n",
              "1        2007         7.1  \n",
              "2        2015         6.8  \n",
              "3        2012         8.5  \n",
              "4        <NA>         7.1  "
            ]
          },
          "execution_count": 43,
          "metadata": {},
          "output_type": "execute_result"
        }
      ],
      "source": [
        "rename_dict = {\"gross\" : \"movie_income\", \"budget\" : \"movie_budget\"}\n",
        "data.rename(columns = rename_dict, inplace = True)\n",
        "data.head()"
      ]
    },
    {
      "cell_type": "markdown",
      "id": "0c66b460",
      "metadata": {
        "id": "0c66b460"
      },
      "source": [
        "---\n",
        "### Data Analysis\n",
        "\n",
        "\n",
        "Checkout the distribution of `duration` column using a histogram.\n"
      ]
    },
    {
      "cell_type": "code",
      "execution_count": null,
      "id": "05e40217",
      "metadata": {
        "id": "05e40217",
        "outputId": "c066a9af-c0be-4dbf-fd9e-a873ec3bb6ba"
      },
      "outputs": [
        {
          "data": {
            "text/html": [
              "<div>\n",
              "<style scoped>\n",
              "    .dataframe tbody tr th:only-of-type {\n",
              "        vertical-align: middle;\n",
              "    }\n",
              "\n",
              "    .dataframe tbody tr th {\n",
              "        vertical-align: top;\n",
              "    }\n",
              "\n",
              "    .dataframe thead th {\n",
              "        text-align: right;\n",
              "    }\n",
              "</style>\n",
              "<table border=\"1\" class=\"dataframe\">\n",
              "  <thead>\n",
              "    <tr style=\"text-align: right;\">\n",
              "      <th></th>\n",
              "      <th>color</th>\n",
              "      <th>director_name</th>\n",
              "      <th>duration</th>\n",
              "      <th>movie_income</th>\n",
              "      <th>star_name</th>\n",
              "      <th>movie_title</th>\n",
              "      <th>language</th>\n",
              "      <th>country</th>\n",
              "      <th>movie_budget</th>\n",
              "      <th>title_year</th>\n",
              "      <th>imdb_score</th>\n",
              "    </tr>\n",
              "  </thead>\n",
              "  <tbody>\n",
              "    <tr>\n",
              "      <th>0</th>\n",
              "      <td>Color</td>\n",
              "      <td>James Cameron</td>\n",
              "      <td>178.0</td>\n",
              "      <td>760505847.0</td>\n",
              "      <td>CCH Pounder</td>\n",
              "      <td>Avatar</td>\n",
              "      <td>English</td>\n",
              "      <td>USA</td>\n",
              "      <td>237000000.0</td>\n",
              "      <td>2009</td>\n",
              "      <td>7.9</td>\n",
              "    </tr>\n",
              "    <tr>\n",
              "      <th>1</th>\n",
              "      <td>Color</td>\n",
              "      <td>Gore Verbinski</td>\n",
              "      <td>169.0</td>\n",
              "      <td>309404152.0</td>\n",
              "      <td>Johnny Depp</td>\n",
              "      <td>Pirates of the Caribbean: At World's End</td>\n",
              "      <td>English</td>\n",
              "      <td>USA</td>\n",
              "      <td>300000000.0</td>\n",
              "      <td>2007</td>\n",
              "      <td>7.1</td>\n",
              "    </tr>\n",
              "    <tr>\n",
              "      <th>2</th>\n",
              "      <td>Color</td>\n",
              "      <td>Sam Mendes</td>\n",
              "      <td>148.0</td>\n",
              "      <td>200074175.0</td>\n",
              "      <td>Christoph Waltz</td>\n",
              "      <td>Spectre</td>\n",
              "      <td>English</td>\n",
              "      <td>UK</td>\n",
              "      <td>245000000.0</td>\n",
              "      <td>2015</td>\n",
              "      <td>6.8</td>\n",
              "    </tr>\n",
              "  </tbody>\n",
              "</table>\n",
              "</div>"
            ],
            "text/plain": [
              "   color   director_name  duration  movie_income        star_name  \\\n",
              "0  Color   James Cameron     178.0   760505847.0      CCH Pounder   \n",
              "1  Color  Gore Verbinski     169.0   309404152.0      Johnny Depp   \n",
              "2  Color      Sam Mendes     148.0   200074175.0  Christoph Waltz   \n",
              "\n",
              "                                movie_title language country  movie_budget  \\\n",
              "0                                    Avatar  English     USA   237000000.0   \n",
              "1  Pirates of the Caribbean: At World's End  English     USA   300000000.0   \n",
              "2                                   Spectre  English      UK   245000000.0   \n",
              "\n",
              "   title_year  imdb_score  \n",
              "0        2009         7.9  \n",
              "1        2007         7.1  \n",
              "2        2015         6.8  "
            ]
          },
          "execution_count": 44,
          "metadata": {},
          "output_type": "execute_result"
        }
      ],
      "source": [
        "data.head(3)"
      ]
    },
    {
      "cell_type": "code",
      "execution_count": null,
      "id": "9ebb3c1a",
      "metadata": {
        "id": "9ebb3c1a",
        "outputId": "11a87faa-fa75-4528-fa0d-5c4d5ea86210"
      },
      "outputs": [
        {
          "data": {
            "text/plain": [
              "Text(0.5, 1.0, 'Movie Duration Histogram')"
            ]
          },
          "execution_count": 52,
          "metadata": {},
          "output_type": "execute_result"
        },
        {
          "data": {
            "image/png": "[encoded data removed]",
            "text/plain": [
              "<Figure size 576x432 with 1 Axes>"
            ]
          },
          "metadata": {
            "needs_background": "light"
          },
          "output_type": "display_data"
        }
      ],
      "source": [
        "ax = data.duration.hist(bins = 20, figsize = (8, 6), grid = False)\n",
        "ax.set_xlabel(\"Movie Durations\")\n",
        "ax.set_ylabel(\"Count\")\n",
        "ax.set_title(\"Movie Duration Histogram\")"
      ]
    },
    {
      "cell_type": "markdown",
      "id": "40962db2",
      "metadata": {
        "id": "40962db2"
      },
      "source": [
        "Exercise: Create a hitogram to see the distribution of `imdb_score` column"
      ]
    },
    {
      "cell_type": "code",
      "execution_count": null,
      "id": "8ca4b4c3",
      "metadata": {
        "id": "8ca4b4c3",
        "outputId": "39e6b6a6-97c0-4af3-de35-7de97790cd16"
      },
      "outputs": [
        {
          "data": {
            "text/plain": [
              "Text(0.5, 1.0, 'Movies Imdb score Histogram')"
            ]
          },
          "execution_count": 61,
          "metadata": {},
          "output_type": "execute_result"
        },
        {
          "data": {
            "image/png": "[encoded data removed]",
            "text/plain": [
              "<Figure size 720x432 with 1 Axes>"
            ]
          },
          "metadata": {
            "needs_background": "light"
          },
          "output_type": "display_data"
        }
      ],
      "source": [
        "ax = data.imdb_score.hist(bins = 25, figsize = (10, 6), grid = False)\n",
        "ax.set_xlabel(\"Scores\")\n",
        "ax.set_ylabel(\"Count\")\n",
        "ax.set_title(\"Movies Imdb score Histogram\")"
      ]
    },
    {
      "cell_type": "markdown",
      "id": "19b8d5f3",
      "metadata": {
        "id": "19b8d5f3"
      },
      "source": [
        "Check how many movies have the `imdb_score` less than `4`."
      ]
    },
    {
      "cell_type": "code",
      "execution_count": null,
      "id": "132d4d05",
      "metadata": {
        "id": "132d4d05",
        "outputId": "73c9a67f-d152-459a-8214-b5923cc742de"
      },
      "outputs": [
        {
          "data": {
            "text/html": [
              "<div>\n",
              "<style scoped>\n",
              "    .dataframe tbody tr th:only-of-type {\n",
              "        vertical-align: middle;\n",
              "    }\n",
              "\n",
              "    .dataframe tbody tr th {\n",
              "        vertical-align: top;\n",
              "    }\n",
              "\n",
              "    .dataframe thead th {\n",
              "        text-align: right;\n",
              "    }\n",
              "</style>\n",
              "<table border=\"1\" class=\"dataframe\">\n",
              "  <thead>\n",
              "    <tr style=\"text-align: right;\">\n",
              "      <th></th>\n",
              "      <th>color</th>\n",
              "      <th>director_name</th>\n",
              "      <th>duration</th>\n",
              "      <th>movie_income</th>\n",
              "      <th>star_name</th>\n",
              "      <th>movie_title</th>\n",
              "      <th>language</th>\n",
              "      <th>country</th>\n",
              "      <th>movie_budget</th>\n",
              "      <th>title_year</th>\n",
              "      <th>imdb_score</th>\n",
              "    </tr>\n",
              "  </thead>\n",
              "  <tbody>\n",
              "    <tr>\n",
              "      <th>217</th>\n",
              "      <td>Color</td>\n",
              "      <td>Joel Schumacher</td>\n",
              "      <td>125.0</td>\n",
              "      <td>107285004.0</td>\n",
              "      <td>Michael Gough</td>\n",
              "      <td>Batman &amp; Robin</td>\n",
              "      <td>English</td>\n",
              "      <td>USA</td>\n",
              "      <td>125000000.0</td>\n",
              "      <td>1997</td>\n",
              "      <td>3.7</td>\n",
              "    </tr>\n",
              "    <tr>\n",
              "      <th>267</th>\n",
              "      <td>Color</td>\n",
              "      <td>Jan de Bont</td>\n",
              "      <td>121.0</td>\n",
              "      <td>48068396.0</td>\n",
              "      <td>Jason Patric</td>\n",
              "      <td>Speed 2: Cruise Control</td>\n",
              "      <td>English</td>\n",
              "      <td>USA</td>\n",
              "      <td>160000000.0</td>\n",
              "      <td>1997</td>\n",
              "      <td>3.7</td>\n",
              "    </tr>\n",
              "    <tr>\n",
              "      <th>273</th>\n",
              "      <td>Color</td>\n",
              "      <td>Bo Welch</td>\n",
              "      <td>82.0</td>\n",
              "      <td>100446895.0</td>\n",
              "      <td>Sean Hayes</td>\n",
              "      <td>The Cat in the Hat</td>\n",
              "      <td>English</td>\n",
              "      <td>USA</td>\n",
              "      <td>109000000.0</td>\n",
              "      <td>2003</td>\n",
              "      <td>3.8</td>\n",
              "    </tr>\n",
              "    <tr>\n",
              "      <th>313</th>\n",
              "      <td>Color</td>\n",
              "      <td>Pitof</td>\n",
              "      <td>87.0</td>\n",
              "      <td>40198710.0</td>\n",
              "      <td>Frances Conroy</td>\n",
              "      <td>Catwoman</td>\n",
              "      <td>English</td>\n",
              "      <td>USA</td>\n",
              "      <td>100000000.0</td>\n",
              "      <td>2004</td>\n",
              "      <td>3.3</td>\n",
              "    </tr>\n",
              "    <tr>\n",
              "      <th>319</th>\n",
              "      <td>Color</td>\n",
              "      <td>Lawrence Guterman</td>\n",
              "      <td>94.0</td>\n",
              "      <td>17010646.0</td>\n",
              "      <td>Jamie Kennedy</td>\n",
              "      <td>Son of the Mask</td>\n",
              "      <td>English</td>\n",
              "      <td>USA</td>\n",
              "      <td>84000000.0</td>\n",
              "      <td>2005</td>\n",
              "      <td>2.2</td>\n",
              "    </tr>\n",
              "    <tr>\n",
              "      <th>...</th>\n",
              "      <td>...</td>\n",
              "      <td>...</td>\n",
              "      <td>...</td>\n",
              "      <td>...</td>\n",
              "      <td>...</td>\n",
              "      <td>...</td>\n",
              "      <td>...</td>\n",
              "      <td>...</td>\n",
              "      <td>...</td>\n",
              "      <td>...</td>\n",
              "      <td>...</td>\n",
              "    </tr>\n",
              "    <tr>\n",
              "      <th>4988</th>\n",
              "      <td>Color</td>\n",
              "      <td>Terron R. Parsons</td>\n",
              "      <td>93.0</td>\n",
              "      <td>NaN</td>\n",
              "      <td>Richard Tyson</td>\n",
              "      <td>Hayride</td>\n",
              "      <td>English</td>\n",
              "      <td>USA</td>\n",
              "      <td>60000.0</td>\n",
              "      <td>2012</td>\n",
              "      <td>3.4</td>\n",
              "    </tr>\n",
              "    <tr>\n",
              "      <th>5000</th>\n",
              "      <td>Color</td>\n",
              "      <td>Travis Legge</td>\n",
              "      <td>83.0</td>\n",
              "      <td>NaN</td>\n",
              "      <td>Elissa Dowling</td>\n",
              "      <td>Raymond Did It</td>\n",
              "      <td>English</td>\n",
              "      <td>USA</td>\n",
              "      <td>40000.0</td>\n",
              "      <td>2011</td>\n",
              "      <td>3.2</td>\n",
              "    </tr>\n",
              "    <tr>\n",
              "      <th>5002</th>\n",
              "      <td>Color</td>\n",
              "      <td>Collin Joseph Neal</td>\n",
              "      <td>75.0</td>\n",
              "      <td>NaN</td>\n",
              "      <td>Julianne Gabert</td>\n",
              "      <td>Run, Hide, Die</td>\n",
              "      <td>English</td>\n",
              "      <td>USA</td>\n",
              "      <td>50000.0</td>\n",
              "      <td>2012</td>\n",
              "      <td>3.7</td>\n",
              "    </tr>\n",
              "    <tr>\n",
              "      <th>5017</th>\n",
              "      <td>Color</td>\n",
              "      <td>Travis Legge</td>\n",
              "      <td>90.0</td>\n",
              "      <td>NaN</td>\n",
              "      <td>Kristen Seavey</td>\n",
              "      <td>Dry Spell</td>\n",
              "      <td>English</td>\n",
              "      <td>USA</td>\n",
              "      <td>22000.0</td>\n",
              "      <td>2013</td>\n",
              "      <td>3.3</td>\n",
              "    </tr>\n",
              "    <tr>\n",
              "      <th>5020</th>\n",
              "      <td>NaN</td>\n",
              "      <td>Brandon Landers</td>\n",
              "      <td>143.0</td>\n",
              "      <td>NaN</td>\n",
              "      <td>Robbie Barnes</td>\n",
              "      <td>The Ridges</td>\n",
              "      <td>English</td>\n",
              "      <td>USA</td>\n",
              "      <td>17350.0</td>\n",
              "      <td>2011</td>\n",
              "      <td>3.0</td>\n",
              "    </tr>\n",
              "  </tbody>\n",
              "</table>\n",
              "<p>156 rows × 11 columns</p>\n",
              "</div>"
            ],
            "text/plain": [
              "      color       director_name  duration  movie_income        star_name  \\\n",
              "217   Color     Joel Schumacher     125.0   107285004.0    Michael Gough   \n",
              "267   Color         Jan de Bont     121.0    48068396.0     Jason Patric   \n",
              "273   Color            Bo Welch      82.0   100446895.0       Sean Hayes   \n",
              "313   Color               Pitof      87.0    40198710.0   Frances Conroy   \n",
              "319   Color   Lawrence Guterman      94.0    17010646.0    Jamie Kennedy   \n",
              "...     ...                 ...       ...           ...              ...   \n",
              "4988  Color   Terron R. Parsons      93.0           NaN    Richard Tyson   \n",
              "5000  Color        Travis Legge      83.0           NaN   Elissa Dowling   \n",
              "5002  Color  Collin Joseph Neal      75.0           NaN  Julianne Gabert   \n",
              "5017  Color        Travis Legge      90.0           NaN   Kristen Seavey   \n",
              "5020    NaN     Brandon Landers     143.0           NaN    Robbie Barnes   \n",
              "\n",
              "                  movie_title language country  movie_budget  title_year  \\\n",
              "217            Batman & Robin  English     USA   125000000.0        1997   \n",
              "267   Speed 2: Cruise Control  English     USA   160000000.0        1997   \n",
              "273        The Cat in the Hat  English     USA   109000000.0        2003   \n",
              "313                  Catwoman  English     USA   100000000.0        2004   \n",
              "319           Son of the Mask  English     USA    84000000.0        2005   \n",
              "...                       ...      ...     ...           ...         ...   \n",
              "4988                  Hayride  English     USA       60000.0        2012   \n",
              "5000           Raymond Did It  English     USA       40000.0        2011   \n",
              "5002           Run, Hide, Die  English     USA       50000.0        2012   \n",
              "5017                Dry Spell  English     USA       22000.0        2013   \n",
              "5020               The Ridges  English     USA       17350.0        2011   \n",
              "\n",
              "      imdb_score  \n",
              "217          3.7  \n",
              "267          3.7  \n",
              "273          3.8  \n",
              "313          3.3  \n",
              "319          2.2  \n",
              "...          ...  \n",
              "4988         3.4  \n",
              "5000         3.2  \n",
              "5002         3.7  \n",
              "5017         3.3  \n",
              "5020         3.0  \n",
              "\n",
              "[156 rows x 11 columns]"
            ]
          },
          "execution_count": 66,
          "metadata": {},
          "output_type": "execute_result"
        }
      ],
      "source": [
        "low_score_movies = data[data.imdb_score < 4]\n",
        "low_score_movies"
      ]
    },
    {
      "cell_type": "code",
      "execution_count": null,
      "id": "742b9cd4",
      "metadata": {
        "id": "742b9cd4",
        "outputId": "8c84b07d-00d0-43a9-8955-e8b2ba650d8b"
      },
      "outputs": [
        {
          "data": {
            "text/plain": [
              "(156, 11)"
            ]
          },
          "execution_count": 67,
          "metadata": {},
          "output_type": "execute_result"
        }
      ],
      "source": [
        "low_score_movies.shape"
      ]
    },
    {
      "cell_type": "markdown",
      "id": "a2555046",
      "metadata": {
        "id": "a2555046"
      },
      "source": [
        "Exercise: Use a histogram to visualize the distribution of movie IMdb score in that are produced in `USA`."
      ]
    },
    {
      "cell_type": "code",
      "execution_count": null,
      "id": "71c11257",
      "metadata": {
        "id": "71c11257",
        "outputId": "ebb37397-7a6e-4e15-ec07-26d741990a44"
      },
      "outputs": [
        {
          "data": {
            "text/plain": [
              "Text(0.5, 1.0, 'USA Movies Imdb Score Histogram')"
            ]
          },
          "execution_count": 73,
          "metadata": {},
          "output_type": "execute_result"
        },
        {
          "data": {
            "image/png": "[encoded data removed]",
            "text/plain": [
              "<Figure size 720x432 with 1 Axes>"
            ]
          },
          "metadata": {
            "needs_background": "light"
          },
          "output_type": "display_data"
        }
      ],
      "source": [
        "ax = data[data.country == \"USA\"].imdb_score.hist(bins = 25, figsize = (10, 6), grid = False)\n",
        "ax.set_xlabel(\"Scores\")\n",
        "ax.set_ylabel(\"Count\")\n",
        "ax.set_title(\"USA Movies Imdb Score Histogram\")"
      ]
    },
    {
      "cell_type": "markdown",
      "id": "d0fa3333",
      "metadata": {
        "id": "d0fa3333"
      },
      "source": [
        "---\n",
        "### Answer to some analytical questions\n",
        "    \n",
        "Question 1 - In which year we have the `highest` and `lowest` number of movies?"
      ]
    },
    {
      "cell_type": "markdown",
      "id": "5c493909",
      "metadata": {
        "id": "5c493909"
      },
      "source": [
        "Finding out number of movies per year"
      ]
    },
    {
      "cell_type": "code",
      "execution_count": null,
      "id": "5f3bbfc4",
      "metadata": {
        "id": "5f3bbfc4",
        "outputId": "3ea3f93c-f9c6-4f9c-c64c-3d0e96abc161"
      },
      "outputs": [
        {
          "data": {
            "text/plain": [
              "1916"
            ]
          },
          "execution_count": 83,
          "metadata": {},
          "output_type": "execute_result"
        }
      ],
      "source": [
        "count_per_year = data.groupby(\"title_year\").size()\n",
        "count_per_year.idxmax()\n",
        "count_per_year.idxmin()"
      ]
    },
    {
      "cell_type": "markdown",
      "id": "e1dbb7a4",
      "metadata": {
        "id": "e1dbb7a4"
      },
      "source": [
        "Create a line chart to show the result"
      ]
    },
    {
      "cell_type": "code",
      "execution_count": null,
      "id": "37de30cd",
      "metadata": {
        "id": "37de30cd",
        "outputId": "e5444556-bd80-4bb9-dbf7-14c5492ed61b"
      },
      "outputs": [
        {
          "data": {
            "text/plain": [
              "Text(0, 0.5, '#movies')"
            ]
          },
          "execution_count": 87,
          "metadata": {},
          "output_type": "execute_result"
        },
        {
          "data": {
            "image/png": "[encoded data removed]",
            "text/plain": [
              "<Figure size 576x432 with 1 Axes>"
            ]
          },
          "metadata": {
            "needs_background": "light"
          },
          "output_type": "display_data"
        }
      ],
      "source": [
        "ax = count_per_year.plot(figsize = (8,6))\n",
        "ax.set_xlabel(\"years\")\n",
        "ax.set_ylabel(\"#movies\")"
      ]
    },
    {
      "cell_type": "markdown",
      "id": "1b126d48",
      "metadata": {
        "id": "1b126d48"
      },
      "source": [
        "Question 2 - In which year we have `minimum` and `maximum` average `imdb_score` ?"
      ]
    },
    {
      "cell_type": "markdown",
      "id": "e4d514ed",
      "metadata": {
        "id": "e4d514ed"
      },
      "source": [
        "Finding average imdb score per year"
      ]
    },
    {
      "cell_type": "code",
      "execution_count": null,
      "id": "40deadad",
      "metadata": {
        "id": "40deadad",
        "outputId": "d7bb7377-8e97-4f6c-e880-ccc7c62d1e17"
      },
      "outputs": [
        {
          "data": {
            "text/plain": [
              "title_year\n",
              "1916    8.000000\n",
              "1920    4.800000\n",
              "1925    8.300000\n",
              "1927    8.300000\n",
              "1929    7.150000\n",
              "          ...   \n",
              "2012    6.266516\n",
              "2013    6.369620\n",
              "2014    6.228175\n",
              "2015    6.033628\n",
              "2016    6.399057\n",
              "Name: imdb_score, Length: 91, dtype: float64"
            ]
          },
          "execution_count": 91,
          "metadata": {},
          "output_type": "execute_result"
        }
      ],
      "source": [
        "avgscores = data.groupby(\"title_year\")[\"imdb_score\"].mean()\n",
        "avgscores"
      ]
    },
    {
      "cell_type": "markdown",
      "id": "910dc407",
      "metadata": {
        "id": "910dc407"
      },
      "source": [
        "Use a barchart to visualize the result"
      ]
    },
    {
      "cell_type": "code",
      "execution_count": null,
      "id": "6460f189",
      "metadata": {
        "id": "6460f189",
        "outputId": "fcad76ad-a5db-4587-a6c4-d5b7fe09212c"
      },
      "outputs": [
        {
          "data": {
            "text/plain": [
              "Text(0, 0.5, 'Score')"
            ]
          },
          "execution_count": 110,
          "metadata": {},
          "output_type": "execute_result"
        },
        {
          "data": {
            "image/png": "[encoded data removed]",
            "text/plain": [
              "<Figure size 1296x576 with 1 Axes>"
            ]
          },
          "metadata": {
            "needs_background": "light"
          },
          "output_type": "display_data"
        }
      ],
      "source": [
        "ax = avgscores.plot.bar(figsize = (18,8), title = \"Average Imdb Scores per Year\")\n",
        "ax.set_xlabel(\"Year\")\n",
        "ax.set_ylabel(\"Score\")"
      ]
    },
    {
      "cell_type": "markdown",
      "id": "81b18097",
      "metadata": {
        "id": "81b18097"
      },
      "source": [
        "Exercise:\n",
        "Question 3 - In which year we have the `minimum` and `maximum` spent movie budget?\n",
        "\n",
        "`Use a line chart to visualize your results.`"
      ]
    },
    {
      "cell_type": "code",
      "execution_count": null,
      "id": "e2fe2f8c",
      "metadata": {
        "id": "e2fe2f8c",
        "outputId": "ce0baca1-ca55-4632-f91b-2512c466eadf"
      },
      "outputs": [
        {
          "data": {
            "text/plain": [
              "Text(0, 0.5, 'Budget')"
            ]
          },
          "execution_count": 109,
          "metadata": {},
          "output_type": "execute_result"
        },
        {
          "data": {
            "image/png": "[encoded data removed]",
            "text/plain": [
              "<Figure size 576x432 with 1 Axes>"
            ]
          },
          "metadata": {
            "needs_background": "light"
          },
          "output_type": "display_data"
        }
      ],
      "source": [
        "ax = data.groupby(\"title_year\")[\"movie_budget\"].sum().plot(figsize = (8,6), title = \"Sum of budget per Year\")\n",
        "ax.set_xlabel(\"Year\")\n",
        "ax.set_ylabel(\"Budget\")"
      ]
    },
    {
      "cell_type": "markdown",
      "id": "3ef37072",
      "metadata": {
        "id": "3ef37072"
      },
      "source": [
        "Question 4 - Is there any relationship between IMdb score of a movie and the movie income?\n",
        "\n",
        "To approaches to solve this question:\n",
        "- Visual Correlation Analysis\n",
        "- Generating the Correlation Matirx"
      ]
    },
    {
      "cell_type": "code",
      "execution_count": null,
      "id": "2b6d8450",
      "metadata": {
        "id": "2b6d8450",
        "outputId": "7b98f37c-b2be-496d-d928-352347638277"
      },
      "outputs": [
        {
          "data": {
            "text/html": [
              "<div>\n",
              "<style scoped>\n",
              "    .dataframe tbody tr th:only-of-type {\n",
              "        vertical-align: middle;\n",
              "    }\n",
              "\n",
              "    .dataframe tbody tr th {\n",
              "        vertical-align: top;\n",
              "    }\n",
              "\n",
              "    .dataframe thead th {\n",
              "        text-align: right;\n",
              "    }\n",
              "</style>\n",
              "<table border=\"1\" class=\"dataframe\">\n",
              "  <thead>\n",
              "    <tr style=\"text-align: right;\">\n",
              "      <th></th>\n",
              "      <th>imdb_score</th>\n",
              "      <th>movie_income</th>\n",
              "    </tr>\n",
              "  </thead>\n",
              "  <tbody>\n",
              "    <tr>\n",
              "      <th>0</th>\n",
              "      <td>7.9</td>\n",
              "      <td>760505847.0</td>\n",
              "    </tr>\n",
              "    <tr>\n",
              "      <th>1</th>\n",
              "      <td>7.1</td>\n",
              "      <td>309404152.0</td>\n",
              "    </tr>\n",
              "    <tr>\n",
              "      <th>2</th>\n",
              "      <td>6.8</td>\n",
              "      <td>200074175.0</td>\n",
              "    </tr>\n",
              "    <tr>\n",
              "      <th>3</th>\n",
              "      <td>8.5</td>\n",
              "      <td>448130642.0</td>\n",
              "    </tr>\n",
              "    <tr>\n",
              "      <th>4</th>\n",
              "      <td>7.1</td>\n",
              "      <td>NaN</td>\n",
              "    </tr>\n",
              "    <tr>\n",
              "      <th>...</th>\n",
              "      <td>...</td>\n",
              "      <td>...</td>\n",
              "    </tr>\n",
              "    <tr>\n",
              "      <th>5038</th>\n",
              "      <td>7.7</td>\n",
              "      <td>NaN</td>\n",
              "    </tr>\n",
              "    <tr>\n",
              "      <th>5039</th>\n",
              "      <td>7.5</td>\n",
              "      <td>NaN</td>\n",
              "    </tr>\n",
              "    <tr>\n",
              "      <th>5040</th>\n",
              "      <td>6.3</td>\n",
              "      <td>NaN</td>\n",
              "    </tr>\n",
              "    <tr>\n",
              "      <th>5041</th>\n",
              "      <td>6.3</td>\n",
              "      <td>10443.0</td>\n",
              "    </tr>\n",
              "    <tr>\n",
              "      <th>5042</th>\n",
              "      <td>6.6</td>\n",
              "      <td>85222.0</td>\n",
              "    </tr>\n",
              "  </tbody>\n",
              "</table>\n",
              "<p>5043 rows × 2 columns</p>\n",
              "</div>"
            ],
            "text/plain": [
              "      imdb_score  movie_income\n",
              "0            7.9   760505847.0\n",
              "1            7.1   309404152.0\n",
              "2            6.8   200074175.0\n",
              "3            8.5   448130642.0\n",
              "4            7.1           NaN\n",
              "...          ...           ...\n",
              "5038         7.7           NaN\n",
              "5039         7.5           NaN\n",
              "5040         6.3           NaN\n",
              "5041         6.3       10443.0\n",
              "5042         6.6       85222.0\n",
              "\n",
              "[5043 rows x 2 columns]"
            ]
          },
          "execution_count": 115,
          "metadata": {},
          "output_type": "execute_result"
        }
      ],
      "source": [
        "data_cor = data[[\"imdb_score\", \"movie_income\"]]\n",
        "data_cor"
      ]
    },
    {
      "cell_type": "markdown",
      "id": "1019bced",
      "metadata": {
        "id": "1019bced"
      },
      "source": [
        "Drop the rows with `non` values"
      ]
    },
    {
      "cell_type": "markdown",
      "source": [],
      "metadata": {
        "id": "ec4UQUR69eSG"
      },
      "id": "ec4UQUR69eSG"
    },
    {
      "cell_type": "code",
      "execution_count": null,
      "id": "fb2e5f89",
      "metadata": {
        "id": "fb2e5f89",
        "outputId": "26642454-2c61-459a-acce-96af36ae0663"
      },
      "outputs": [
        {
          "name": "stderr",
          "output_type": "stream",
          "text": [
            "<ipython-input-117-53dc58b27d2d>:1: SettingWithCopyWarning: \n",
            "A value is trying to be set on a copy of a slice from a DataFrame\n",
            "\n",
            "See the caveats in the documentation: https://pandas.pydata.org/pandas-docs/stable/user_guide/indexing.html#returning-a-view-versus-a-copy\n",
            "  data_cor.dropna(inplace = True)\n"
          ]
        }
      ],
      "source": [
        "data_cor.dropna(inplace = True)"
      ]
    },
    {
      "cell_type": "markdown",
      "id": "4eb7644a",
      "metadata": {
        "id": "4eb7644a"
      },
      "source": [
        "Create a scatter plot to see the data"
      ]
    },
    {
      "cell_type": "code",
      "execution_count": null,
      "id": "fd2df675",
      "metadata": {
        "id": "fd2df675",
        "outputId": "fa009ceb-158f-4560-a75f-2b767ec17f32"
      },
      "outputs": [
        {
          "data": {
            "text/plain": [
              "<AxesSubplot:xlabel='imdb_score', ylabel='movie_income'>"
            ]
          },
          "execution_count": 124,
          "metadata": {},
          "output_type": "execute_result"
        },
        {
          "data": {
            "image/png": "[encoded data removed]",
            "text/plain": [
              "<Figure size 720x720 with 1 Axes>"
            ]
          },
          "metadata": {
            "needs_background": "light"
          },
          "output_type": "display_data"
        }
      ],
      "source": [
        "data_cor.plot.scatter(x = \"imdb_score\", y = \"movie_income\", figsize = (10,10))"
      ]
    },
    {
      "cell_type": "markdown",
      "id": "30a708c3",
      "metadata": {
        "id": "30a708c3"
      },
      "source": [
        "Generate the correlation matrix"
      ]
    },
    {
      "cell_type": "code",
      "execution_count": null,
      "id": "a87a4b8e",
      "metadata": {
        "id": "a87a4b8e",
        "outputId": "9c9bd1b8-e9b0-439f-f91a-304dcb97e382"
      },
      "outputs": [
        {
          "data": {
            "text/html": [
              "<div>\n",
              "<style scoped>\n",
              "    .dataframe tbody tr th:only-of-type {\n",
              "        vertical-align: middle;\n",
              "    }\n",
              "\n",
              "    .dataframe tbody tr th {\n",
              "        vertical-align: top;\n",
              "    }\n",
              "\n",
              "    .dataframe thead th {\n",
              "        text-align: right;\n",
              "    }\n",
              "</style>\n",
              "<table border=\"1\" class=\"dataframe\">\n",
              "  <thead>\n",
              "    <tr style=\"text-align: right;\">\n",
              "      <th></th>\n",
              "      <th>imdb_score</th>\n",
              "      <th>movie_income</th>\n",
              "    </tr>\n",
              "  </thead>\n",
              "  <tbody>\n",
              "    <tr>\n",
              "      <th>imdb_score</th>\n",
              "      <td>1.000000</td>\n",
              "      <td>0.198021</td>\n",
              "    </tr>\n",
              "    <tr>\n",
              "      <th>movie_income</th>\n",
              "      <td>0.198021</td>\n",
              "      <td>1.000000</td>\n",
              "    </tr>\n",
              "  </tbody>\n",
              "</table>\n",
              "</div>"
            ],
            "text/plain": [
              "              imdb_score  movie_income\n",
              "imdb_score      1.000000      0.198021\n",
              "movie_income    0.198021      1.000000"
            ]
          },
          "execution_count": 125,
          "metadata": {},
          "output_type": "execute_result"
        }
      ],
      "source": [
        "data_cor.corr()"
      ]
    }
  ],
  "metadata": {
    "kernelspec": {
      "display_name": "Python 3",
      "language": "python",
      "name": "python3"
    },
    "language_info": {
      "codemirror_mode": {
        "name": "ipython",
        "version": 3
      },
      "file_extension": ".py",
      "mimetype": "text/x-python",
      "name": "python",
      "nbconvert_exporter": "python",
      "pygments_lexer": "ipython3",
      "version": "3.8.8"
    },
    "colab": {
      "provenance": [],
      "include_colab_link": true
    }
  },
  "nbformat": 4,
  "nbformat_minor": 5
}